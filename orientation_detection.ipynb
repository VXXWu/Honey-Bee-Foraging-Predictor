{
 "cells": [
  {
   "cell_type": "code",
   "execution_count": null,
   "metadata": {},
   "outputs": [],
   "source": [
    "import os\n",
    "import pandas as pd\n",
    "\n",
    "directory = \"/Users/vincewu/Bees-Project\"\n",
    "processed_folder = \"Fully Processed\"\n",
    "processed_file = 'processed_orientation.csv'\n",
    "\n",
    "processed_csv = pd.read_csv(os.path.join(directory, processed_folder, processed_file), engine='python', header=None)\n",
    "\n",
    "headers=processed_csv.loc[0].tolist()\n",
    "headers[0]='UID'\n",
    "\n",
    "processed_csv.columns=headers\n",
    "processed_csv=processed_csv.drop(labels=0, axis=0)\n",
    "processed_csv.index-=1\n",
    "processed_csv['Date']=pd.to_datetime(processed_csv[\"Date\"])\n",
    "processed_csv\n",
    "\n"
   ]
  },
  {
   "cell_type": "code",
   "execution_count": null,
   "metadata": {},
   "outputs": [],
   "source": [
    "processed_csv.iloc[0].tolist()"
   ]
  },
  {
   "cell_type": "code",
   "execution_count": null,
   "metadata": {},
   "outputs": [],
   "source": [
    "forager_dates=pd.read_csv(os.path.join(directory, processed_folder, 'forager_dates.csv'), parse_dates=['Forager Date'])\n",
    "forager_dates.index = forager_dates.iloc[:, 0]\n",
    "forager_dates=pd.DataFrame(forager_dates.iloc[:, 1])\n",
    "forager_dates"
   ]
  },
  {
   "cell_type": "code",
   "execution_count": null,
   "metadata": {},
   "outputs": [],
   "source": [
    "'25SQCMICSBB745E009BD3' in forager_dates\n"
   ]
  },
  {
   "cell_type": "code",
   "execution_count": null,
   "metadata": {},
   "outputs": [],
   "source": [
    "forager_dates"
   ]
  },
  {
   "cell_type": "code",
   "execution_count": null,
   "metadata": {},
   "outputs": [],
   "source": [
    "df=[]\n",
    "for i in range(len(processed_csv)):\n",
    "    if processed_csv['Group'][i]=='New':\n",
    "        uid = processed_csv['UID'][i]\n",
    "        date = processed_csv['Date'][i]\n",
    "        # print(uid)\n",
    "        if uid in forager_dates:\n",
    "            print(forager_dates.loc[uid])\n",
    "\n",
    "        if uid in forager_dates and date<forager_dates.loc[uid]:\n",
    "            df.append(processed_csv.iloc[i].tolist())\n"
   ]
  },
  {
   "cell_type": "code",
   "execution_count": null,
   "metadata": {},
   "outputs": [],
   "source": [
    "trips={}\n",
    "forager_dates={}\n",
    "# orientation_data=pd.DataFrame([0 for i in range(len(processed_csv.columns.tolist()))], columns=processed_csv.columns.tolist())\n",
    "orientation_data=[]\n",
    "for i in range(len(processed_csv)):\n",
    "    if processed_csv['Group'][i]=='New':\n",
    "        uid = processed_csv['UID'][i]\n",
    "        date=processed_csv['Date'][i]\n",
    "        #print(uid, date)\n",
    "        total_duration=float(processed_csv['Trip Average Duration (Hours)'][i])*int(processed_csv['Trip Amount'][i])\n",
    "        if uid not in trips:\n",
    "            trips[uid] = [[date, total_duration]]\n",
    "        else:\n",
    "            trips[uid].append([date, total_duration])\n",
    "        if uid not in forager_dates:\n",
    "            if total_duration>=0.5:\n",
    "                # if len(trips[uid])>=2:\n",
    "                #     if trips[uid][-1][1]>=2*trips[uid][-2][1] and trips[uid][-1][1]>=0.5:\n",
    "                #         # if uid == '25SQCMICSBB042700B285':\n",
    "                #             # print(trips[uid][-3][1], trips[uid][-3][1])\n",
    "                #             # print(trips[uid])\n",
    "                #         forager_dates[uid]=trips[uid][-1][0]\n",
    "                if len(trips[uid])>=3:\n",
    "                    if trips[uid][-2][1]>=2*trips[uid][-3][1] and trips[uid][-2][1]>=0.5:\n",
    "                        # if uid == '25SQCMICSBB042700B285':\n",
    "                            # print(trips[uid][-3][1], trips[uid][-3][1])\n",
    "                            # print(trips[uid])\n",
    "                        forager_dates[uid]=trips[uid][-2][0]\n",
    "\n",
    "            if not uid in forager_dates:\n",
    "                # orientation_data=pd.concat([orientation_data, processed_csv.iloc[i]], axis=0, ignore_index=True)\n",
    "                orientation_data.append(processed_csv.iloc[i].tolist())\n",
    "\n",
    "# forager_dates\n",
    "\n",
    "# sum=0\n",
    "# for uid in trips:\n",
    "#     for i in range(1, len(trips[uid])):\n",
    "#         if trips[uid][i][1]>=2*trips[uid][i-1][1] and trips[uid][i][1]>1 and trips[uid][i-1][1]<0.5:\n",
    "#             if i<len(trips[uid])-1:\n",
    "#                 if trips[uid][i+1][1]<2*trips[uid][i-1][1] and uid in date_found:\n",
    "#                     print(uid, trips[uid][i+1][0])\n",
    "#                     sum+=1\n",
    "\n",
    "# print(sum)\n",
    "\n",
    "df = pd.DataFrame.from_dict(forager_dates, orient='index', columns=['Forager Date'])\n",
    "# df.to_csv(directory+'/forager_dates.csv')\n",
    "trips\n",
    "\n"
   ]
  },
  {
   "cell_type": "code",
   "execution_count": null,
   "metadata": {},
   "outputs": [],
   "source": [
    "pd.DataFrame(orientation_data).to_csv(os.path.join(directory, processed_folder, 'orientation_data.csv'))"
   ]
  },
  {
   "cell_type": "code",
   "execution_count": null,
   "metadata": {},
   "outputs": [],
   "source": [
    "uids=set()\n",
    "# new_dfs=[[], []]\n",
    "new_dfs=[]\n",
    "for i in range(len(processed_csv)):\n",
    "    if int(processed_csv['Trip Amount'][i])==0:\n",
    "        continue\n",
    "    uid = processed_csv['UID'][i]\n",
    "    if processed_csv['Group'][i]=='Catch':\n",
    "        if uid in uids:\n",
    "            new_dfs.append(processed_csv.iloc[i])\n",
    "        # tagged bees were released in evening\n",
    "        elif processed_csv['Date'][i]==pd.to_datetime('2023-01-25'):\n",
    "            uids.add(uid)\n",
    "            new_dfs.append(processed_csv.iloc[i])\n",
    "        else:\n",
    "            uids.add(uid)\n",
    "    elif processed_csv['Group'][i]=='New':\n",
    "        if uid in forager_dates and processed_csv['Date'][i] >= forager_dates[uid]:\n",
    "            if int(processed_csv['Trip Amount'][i]) > 0:\n",
    "                new_dfs.append(processed_csv.iloc[i])\n",
    "\n",
    "# new_dfs\n",
    "# non_forager_data=pd.DataFrame(new_dfs[0])\n",
    "forager_data=pd.DataFrame(new_dfs)\n",
    "# non_forager_data.to_csv(os.path.join(directory, processed_folder, 'non_forager_data.csv'))\n",
    "forager_data.to_csv(os.path.join(directory, processed_folder, 'forager_data.csv'))\n"
   ]
  }
 ],
 "metadata": {
  "kernelspec": {
   "display_name": "Python 3.9.7 ('base')",
   "language": "python",
   "name": "python3"
  },
  "language_info": {
   "codemirror_mode": {
    "name": "ipython",
    "version": 3
   },
   "file_extension": ".py",
   "mimetype": "text/x-python",
   "name": "python",
   "nbconvert_exporter": "python",
   "pygments_lexer": "ipython3",
   "version": "3.9.13"
  },
  "orig_nbformat": 4,
  "vscode": {
   "interpreter": {
    "hash": "21581d6d3ae79c11599e3d24eb0208c5d094f55ad0f08513ff675c72b86db4d2"
   }
  }
 },
 "nbformat": 4,
 "nbformat_minor": 2
}
